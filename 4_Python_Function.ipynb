{
  "nbformat": 4,
  "nbformat_minor": 0,
  "metadata": {
    "colab": {
      "provenance": []
    },
    "kernelspec": {
      "name": "python3",
      "display_name": "Python 3"
    },
    "language_info": {
      "name": "python"
    }
  },
  "cells": [
    {
      "cell_type": "markdown",
      "source": [
        "# Exercise 1:\n",
        "\n",
        " Create a function that takes in three arguments, two of which are optional. The first argument should be a required positional argument, the second argument should be a keyword argument with a default value of 10, and the third argument should be a keyword argument with a default value of None. The function should print the sum of the first two arguments if the third argument is None, and print the product of all three arguments if the third argument is not None."
      ],
      "metadata": {
        "id": "GAVnjpDWHcDl"
      }
    },
    {
      "cell_type": "code",
      "execution_count": 2,
      "metadata": {
        "colab": {
          "base_uri": "https://localhost:8080/"
        },
        "id": "x3tWp0p2G9fN",
        "outputId": "a2534bdc-60ed-477b-fa98-112e11de5d50"
      },
      "outputs": [
        {
          "output_type": "stream",
          "name": "stdout",
          "text": [
            "20\n",
            "14\n",
            "120\n"
          ]
        }
      ],
      "source": [
        "def function(a,b=10,c=None):\n",
        "    if c is None:\n",
        "        print(a+b)\n",
        "    else:\n",
        "        print(a*b*c)\n",
        "function(10)      #output is 10+10=20\n",
        "function(10, 4)   #output is 10+4=14\n",
        "function(10,4,3)  #output is 10*4*3=120"
      ]
    },
    {
      "cell_type": "markdown",
      "source": [
        "# Exercise 2:\n",
        "\n",
        "Write a function that takes in a list of strings and returns a new list with only the strings that have a length greater than or equal to 5."
      ],
      "metadata": {
        "id": "WYGq2nzqJCuc"
      }
    },
    {
      "cell_type": "code",
      "source": [
        "def StringLength(StringList):\n",
        "    return [string for string in StringList if len(string) >= 5]\n",
        "strings = [\"Apple\", \"Cat\", \"Banana\", \"Dog\", \"Elephant\", \"Bicycle\", \"Aeroplane\"]\n",
        "print(StringLength(strings))"
      ],
      "metadata": {
        "colab": {
          "base_uri": "https://localhost:8080/"
        },
        "id": "Ie0TSINRJByc",
        "outputId": "b8117c73-1840-40f6-f874-63d241c654e1"
      },
      "execution_count": 1,
      "outputs": [
        {
          "output_type": "stream",
          "name": "stdout",
          "text": [
            "['Apple', 'Banana', 'Elephant', 'Bicycle', 'Aeroplane']\n"
          ]
        }
      ]
    },
    {
      "cell_type": "markdown",
      "source": [
        "# Exercise 3:\n",
        "\n",
        "Write a Python program to evaluate a given mathematical expression using the eval() function. expression = \"3 * 5 + 2\""
      ],
      "metadata": {
        "id": "QsNW05vkM8vV"
      }
    },
    {
      "cell_type": "code",
      "source": [
        "expression = \"3 * 5 + 2\"\n",
        "result = eval(expression)\n",
        "print(result)"
      ],
      "metadata": {
        "colab": {
          "base_uri": "https://localhost:8080/"
        },
        "id": "nbx37AwHMwLF",
        "outputId": "4d7e57c1-6e03-464b-dd03-c242c502857f"
      },
      "execution_count": 3,
      "outputs": [
        {
          "output_type": "stream",
          "name": "stdout",
          "text": [
            "17\n"
          ]
        }
      ]
    },
    {
      "cell_type": "code",
      "source": [
        "def evaluate(expression):\n",
        "    try:\n",
        "        result = eval(expression)\n",
        "        return result\n",
        "    except Exception as e:\n",
        "        return f\"Error: {e}\"\n",
        "expression = input(\"Enter a mathematical expression: \")\n",
        "print(\"The result is:\", evaluate(expression))"
      ],
      "metadata": {
        "colab": {
          "base_uri": "https://localhost:8080/"
        },
        "id": "trS267DeMfFt",
        "outputId": "683460cd-3f51-4c30-b96b-b1db319bf939"
      },
      "execution_count": 4,
      "outputs": [
        {
          "output_type": "stream",
          "name": "stdout",
          "text": [
            "Enter a mathematical expression: 1*2*3\n",
            "The result is: 6\n"
          ]
        }
      ]
    },
    {
      "cell_type": "markdown",
      "source": [
        "# Exercise 4:\n",
        "\n",
        "Write a Python program to filter out the prime numbers from a given list of integers using the filter() function"
      ],
      "metadata": {
        "id": "kMVP1olhNrDV"
      }
    },
    {
      "source": [
        "def is_prime(n):\n",
        "    if n <= 1:\n",
        "        return False\n",
        "    for i in range(2, int(n ** 0.5) + 1):\n",
        "        if n % i == 0:\n",
        "            return False\n",
        "    return True\n",
        "def filter_primes(numbers):\n",
        "    return [num for num in numbers if is_prime(num)]\n",
        "numbers = [2, 3, 4, 5, 6, 7, 8, 9, 10, 11, 12, 13, 14, 15]\n",
        "prime_numbers = filter_primes(numbers)\n",
        "print(\"Prime numbers:\", prime_numbers)"
      ],
      "cell_type": "code",
      "metadata": {
        "colab": {
          "base_uri": "https://localhost:8080/"
        },
        "id": "vKwObMkOaMRY",
        "outputId": "98ddb74e-4e4b-4a47-bfca-3db642ad249d"
      },
      "execution_count": null,
      "outputs": [
        {
          "output_type": "stream",
          "name": "stdout",
          "text": [
            "Prime numbers: [2, 3, 5, 7, 11, 13]\n"
          ]
        }
      ]
    },
    {
      "cell_type": "code",
      "source": [
        "def is_prime(n):\n",
        "    if n <= 1:\n",
        "        return False\n",
        "    for i in range(2, int(n ** 0.5) + 1):\n",
        "        if n % i == 0:\n",
        "            return False\n",
        "    return True\n",
        "def filter_primes(numbers):\n",
        "    return [num for num in numbers if is_prime(num)]\n",
        "user_input = input(\"Enter numbers separated by commas: \")\n",
        "numbers = list(map(int, user_input.split(',')))\n",
        "prime_numbers = filter_primes(numbers)\n",
        "print(\"Prime numbers:\", prime_numbers)"
      ],
      "metadata": {
        "colab": {
          "base_uri": "https://localhost:8080/"
        },
        "id": "xzepamy0fM_a",
        "outputId": "36c6ef8a-ce8a-4978-96d0-f96aabdd5cfe"
      },
      "execution_count": 8,
      "outputs": [
        {
          "output_type": "stream",
          "name": "stdout",
          "text": [
            "Enter numbers separated by commas: 1,2,3,4,5,6,7,8,9\n",
            "Prime numbers: [2, 3, 5, 7]\n"
          ]
        }
      ]
    },
    {
      "cell_type": "markdown",
      "source": [
        "# Exercise 5:\n",
        "\n",
        "Write a Python program to convert a list of strings to uppercase using the map() function."
      ],
      "metadata": {
        "id": "VJkdu2BJdwV5"
      }
    },
    {
      "cell_type": "code",
      "source": [
        "def to_uppercase(string_list):\n",
        "    return list(map(str.upper, string_list))\n",
        "strings = [\"hello\", \"world\", \"python\"]\n",
        "print(to_uppercase(strings))"
      ],
      "metadata": {
        "colab": {
          "base_uri": "https://localhost:8080/"
        },
        "id": "gGF30XMcd1m5",
        "outputId": "c64dd863-791b-4bdc-954d-ba5fd803f0f0"
      },
      "execution_count": null,
      "outputs": [
        {
          "output_type": "stream",
          "name": "stdout",
          "text": [
            "['HELLO', 'WORLD', 'PYTHON']\n"
          ]
        }
      ]
    }
  ]
}